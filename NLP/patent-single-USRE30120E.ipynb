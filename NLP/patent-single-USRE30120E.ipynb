{
 "cells": [
  {
   "cell_type": "code",
   "execution_count": 1,
   "metadata": {},
   "outputs": [],
   "source": [
    "# pip install splinter"
   ]
  },
  {
   "cell_type": "code",
   "execution_count": 2,
   "metadata": {},
   "outputs": [],
   "source": [
    "# pip install webdriver_manager"
   ]
  },
  {
   "cell_type": "code",
   "execution_count": 3,
   "metadata": {},
   "outputs": [],
   "source": [
    "from bs4 import BeautifulSoup\n",
    "import requests\n",
    "from splinter import Browser\n",
    "from webdriver_manager.chrome import ChromeDriverManager\n",
    "import pandas as pd"
   ]
  },
  {
   "cell_type": "code",
   "execution_count": 4,
   "metadata": {},
   "outputs": [
    {
     "name": "stderr",
     "output_type": "stream",
     "text": [
      "\n",
      "\n",
      "====== WebDriver manager ======\n",
      "Current google-chrome version is 92.0.4515\n",
      "Get LATEST driver version for 92.0.4515\n",
      "Driver [C:\\Users\\gongl\\.wdm\\drivers\\chromedriver\\win32\\92.0.4515.107\\chromedriver.exe] found in cache\n"
     ]
    }
   ],
   "source": [
    "# Setup splinter\n",
    "executable_path = {'executable_path': ChromeDriverManager().install()}\n",
    "browser = Browser('chrome', **executable_path, headless=False)"
   ]
  },
  {
   "cell_type": "code",
   "execution_count": null,
   "metadata": {},
   "outputs": [],
   "source": []
  },
  {
   "cell_type": "code",
   "execution_count": null,
   "metadata": {},
   "outputs": [],
   "source": []
  },
  {
   "cell_type": "code",
   "execution_count": 5,
   "metadata": {},
   "outputs": [],
   "source": [
    "url = 'https://patents.google.com/patent/USRE30120E/en?oq=USRE30120E'\n",
    "browser.visit(url)"
   ]
  },
  {
   "cell_type": "code",
   "execution_count": 6,
   "metadata": {},
   "outputs": [],
   "source": [
    "html_hemispheres = browser.html\n",
    "soup = BeautifulSoup(html_hemispheres, 'html.parser')"
   ]
  },
  {
   "cell_type": "code",
   "execution_count": 7,
   "metadata": {},
   "outputs": [
    {
     "data": {
      "text/plain": [
       "[<div class=\"claim-text style-scope patent-text\"> gear teeth on its outer periphery..]. .Iadd.9.  A connection between a shaft and a hub, said shaft and hub having at least one interengaging spline, an abutment adjustably positioned along said shaft, said abutment contacting one face of said hub, a biasing spring contacting the other face of said hub, said spring being compressed, whereby a spring force urges the hub against the abutment, said spline being at an angle to the axis of said shaft, whereby axial adjustment of said abutment along the shaft causes the hub to rotate relative to the shaft. .Iaddend. .Iadd.10. The connection of claim 9 wherein said abutment is defined by a nut threaded on said shaft. .Iaddend. .Iadd.11. The connection of claim 9 wherein said spring is a belleville spring. .Iaddend. .Iadd.12. The connection of claim 11 wherein the largest diameter of said belleville spring contacts one face of the hub, and wherein a collar is axially fixed relative to said shaft, and the smallest diameter of said belleville spring contacts and abuts one end of said collar. .Iaddend. .Iadd.13. A connection between a shaft and a hub, said shaft and hub having at least one interengaging spline, an abutment adjustably positioned along said shaft, said abutment contacting one face of said hub, a biasing spring contacting the other face of said hub, said spring being compressed, said hub carrying helical gear teeth on its outer periphery, whereby a spring force urges the hub against the abutment. .Iaddend. .Iadd.14. The combination of two shafts interconnected for rotation in unison by drive elements, the structural relationship of said drive elements to one another and said shafts being one wherein each of said drive elements is non-rotatably secured to a respective one of said shafts and wherein axial movement of one of the drive elements on its shaft effects a change in angular phase relationship between said shafts, the improvement comprising, an adjustable abutment urging one of the drive elements axially along its one shaft, a spring element maintaining the drive element in contact with the abutment. .Iaddend. .Iadd.15. The combination of claim 14 wherein said one drive element is secured to its respective shaft by a spline connection, the spline being at an angle to the said shaft, whereby axial movement of the one drive element relative to its respective shaft causes the one drive element to rotate relative to its</div>,\n",
       " <div class=\"claim-text style-scope patent-text\"> respective shaft. .Iaddend. .Iadd.16.  The combination of claim 14 wherein said two drive elements are gears having meshing, helical teeth, whereby when said one drive element is axially moved along its respective shaft the other drive element is caused to rotate. .Iaddend. .Iadd.17. The combination of claim 14 wherein said abutment is defined by a nut threaded on said shaft. .Iaddend. .Iadd.18. The combination of claim 14 wherein said spring is a belleville spring. .Iaddend. .Iadd.19. The combination of claim 18 wherein the largest diameter of said belleville spring contacts one face of the hub, and wherein a collar is axially fixed relative to said shaft, and the smallest diameter of said belleville spring contacts and abuts one end of said collar. .Iaddend. .Iadd.20. The combination of claim 14 wherein said first and second shafts each carry a plurality of elongated, meshing lobes, whereby adjustment of the abutment along the first-mentioned shaft causes angular phase adjustment between the lobes. .Iaddend.</div>]"
      ]
     },
     "execution_count": 7,
     "metadata": {},
     "output_type": "execute_result"
    }
   ],
   "source": [
    "# Retreive all items that contain\n",
    "items = soup.find_all(class_='claim-text style-scope patent-text')\n",
    "items "
   ]
  },
  {
   "cell_type": "code",
   "execution_count": null,
   "metadata": {},
   "outputs": [],
   "source": []
  },
  {
   "cell_type": "code",
   "execution_count": 8,
   "metadata": {},
   "outputs": [],
   "source": [
    "text = str(items).split('<div class=\"claim-text style-scope patent-text\">')"
   ]
  },
  {
   "cell_type": "code",
   "execution_count": 9,
   "metadata": {},
   "outputs": [],
   "source": [
    "pure = text[1:]"
   ]
  },
  {
   "cell_type": "code",
   "execution_count": 10,
   "metadata": {},
   "outputs": [
    {
     "data": {
      "text/plain": [
       "[' gear teeth on its outer periphery..]. .Iadd.9.  A connection between a shaft and a hub, said shaft and hub having at least one interengaging spline, an abutment adjustably positioned along said shaft, said abutment contacting one face of said hub, a biasing spring contacting the other face of said hub, said spring being compressed, whereby a spring force urges the hub against the abutment, said spline being at an angle to the axis of said shaft, whereby axial adjustment of said abutment along the shaft causes the hub to rotate relative to the shaft. .Iaddend. .Iadd.10. The connection of claim 9 wherein said abutment is defined by a nut threaded on said shaft. .Iaddend. .Iadd.11. The connection of claim 9 wherein said spring is a belleville spring. .Iaddend. .Iadd.12. The connection of claim 11 wherein the largest diameter of said belleville spring contacts one face of the hub, and wherein a collar is axially fixed relative to said shaft, and the smallest diameter of said belleville spring contacts and abuts one end of said collar. .Iaddend. .Iadd.13. A connection between a shaft and a hub, said shaft and hub having at least one interengaging spline, an abutment adjustably positioned along said shaft, said abutment contacting one face of said hub, a biasing spring contacting the other face of said hub, said spring being compressed, said hub carrying helical gear teeth on its outer periphery, whereby a spring force urges the hub against the abutment. .Iaddend. .Iadd.14. The combination of two shafts interconnected for rotation in unison by drive elements, the structural relationship of said drive elements to one another and said shafts being one wherein each of said drive elements is non-rotatably secured to a respective one of said shafts and wherein axial movement of one of the drive elements on its shaft effects a change in angular phase relationship between said shafts, the improvement comprising, an adjustable abutment urging one of the drive elements axially along its one shaft, a spring element maintaining the drive element in contact with the abutment. .Iaddend. .Iadd.15. The combination of claim 14 wherein said one drive element is secured to its respective shaft by a spline connection, the spline being at an angle to the said shaft, whereby axial movement of the one drive element relative to its respective shaft causes the one drive element to rotate relative to its</div>, ',\n",
       " ' respective shaft. .Iaddend. .Iadd.16.  The combination of claim 14 wherein said two drive elements are gears having meshing, helical teeth, whereby when said one drive element is axially moved along its respective shaft the other drive element is caused to rotate. .Iaddend. .Iadd.17. The combination of claim 14 wherein said abutment is defined by a nut threaded on said shaft. .Iaddend. .Iadd.18. The combination of claim 14 wherein said spring is a belleville spring. .Iaddend. .Iadd.19. The combination of claim 18 wherein the largest diameter of said belleville spring contacts one face of the hub, and wherein a collar is axially fixed relative to said shaft, and the smallest diameter of said belleville spring contacts and abuts one end of said collar. .Iaddend. .Iadd.20. The combination of claim 14 wherein said first and second shafts each carry a plurality of elongated, meshing lobes, whereby adjustment of the abutment along the first-mentioned shaft causes angular phase adjustment between the lobes. .Iaddend.</div>]']"
      ]
     },
     "execution_count": 10,
     "metadata": {},
     "output_type": "execute_result"
    }
   ],
   "source": [
    "pure"
   ]
  },
  {
   "cell_type": "code",
   "execution_count": null,
   "metadata": {},
   "outputs": [],
   "source": [
    "replaced = [line.replace(\"</div>\\n\", \"\") for line in pure]\n",
    "replaced = [line.replace(\"</div>\", \"\") for line in replaced]\n",
    "replaced = [line.replace(\"</div>,\", \"\") for line in replaced]\n",
    "replaced"
   ]
  },
  {
   "cell_type": "code",
   "execution_count": null,
   "metadata": {},
   "outputs": [],
   "source": []
  },
  {
   "cell_type": "code",
   "execution_count": null,
   "metadata": {},
   "outputs": [],
   "source": []
  },
  {
   "cell_type": "code",
   "execution_count": null,
   "metadata": {},
   "outputs": [],
   "source": []
  },
  {
   "cell_type": "code",
   "execution_count": null,
   "metadata": {},
   "outputs": [],
   "source": []
  },
  {
   "cell_type": "code",
   "execution_count": null,
   "metadata": {},
   "outputs": [],
   "source": []
  },
  {
   "cell_type": "code",
   "execution_count": null,
   "metadata": {},
   "outputs": [],
   "source": [
    "# Store the main_ul \n",
    "hemispheres_main_url = 'https://astrogeology.usgs.gov'"
   ]
  },
  {
   "cell_type": "code",
   "execution_count": null,
   "metadata": {},
   "outputs": [],
   "source": []
  },
  {
   "cell_type": "code",
   "execution_count": null,
   "metadata": {},
   "outputs": [],
   "source": []
  },
  {
   "cell_type": "code",
   "execution_count": null,
   "metadata": {},
   "outputs": [],
   "source": []
  },
  {
   "cell_type": "code",
   "execution_count": null,
   "metadata": {},
   "outputs": [],
   "source": []
  },
  {
   "cell_type": "code",
   "execution_count": null,
   "metadata": {},
   "outputs": [],
   "source": []
  },
  {
   "cell_type": "code",
   "execution_count": null,
   "metadata": {},
   "outputs": [],
   "source": [
    "# single one demo"
   ]
  },
  {
   "cell_type": "code",
   "execution_count": null,
   "metadata": {},
   "outputs": [],
   "source": [
    "# Focus on the first instance in the list\n",
    "itemone = items[0]\n",
    "itemone"
   ]
  },
  {
   "cell_type": "code",
   "execution_count": null,
   "metadata": {},
   "outputs": [],
   "source": [
    "# Print out its title\n",
    "titleone = itemone.find('h3').text\n",
    "titleone"
   ]
  },
  {
   "cell_type": "code",
   "execution_count": null,
   "metadata": {},
   "outputs": [],
   "source": [
    "# Print out its link that leads to its own website which contains the full image\n",
    "partial_img_url_one = itemone.find('a', class_='itemLink product-item')['href']\n",
    "partial_img_url_one"
   ]
  },
  {
   "cell_type": "code",
   "execution_count": null,
   "metadata": {},
   "outputs": [],
   "source": [
    "# Now switch to its own page for investigatio! visit its own page: https://astrogeology.usgs.gov/search/map/Mars/Viking/cerberus_enhanced\n",
    "browser.visit(hemispheres_main_url + partial_img_url_one)"
   ]
  },
  {
   "cell_type": "code",
   "execution_count": null,
   "metadata": {},
   "outputs": [],
   "source": [
    "# HTML Object/string of its own website \n",
    "partial_img_html_one = browser.html\n",
    "# partial_img_html_one"
   ]
  },
  {
   "cell_type": "code",
   "execution_count": null,
   "metadata": {},
   "outputs": [],
   "source": [
    "# Parse HTML above with Beautiful Soup for its own website \n",
    "soup_one = BeautifulSoup(partial_img_html_one, 'html.parser')\n",
    "# soup_one\n",
    "# print(soup_one.prettify())"
   ]
  },
  {
   "cell_type": "code",
   "execution_count": null,
   "metadata": {},
   "outputs": [],
   "source": [
    "# Retrieve full image URL\n",
    "img_url_one = hemispheres_main_url + soup_one.find('img', class_='wide-image')['src']\n",
    "img_url_one"
   ]
  },
  {
   "cell_type": "code",
   "execution_count": null,
   "metadata": {},
   "outputs": [],
   "source": []
  }
 ],
 "metadata": {
  "kernelspec": {
   "display_name": "Python 3",
   "language": "python",
   "name": "python3"
  },
  "language_info": {
   "codemirror_mode": {
    "name": "ipython",
    "version": 3
   },
   "file_extension": ".py",
   "mimetype": "text/x-python",
   "name": "python",
   "nbconvert_exporter": "python",
   "pygments_lexer": "ipython3",
   "version": "3.8.10"
  }
 },
 "nbformat": 4,
 "nbformat_minor": 4
}
